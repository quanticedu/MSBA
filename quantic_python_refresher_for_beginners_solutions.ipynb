{
  "nbformat": 4,
  "nbformat_minor": 5,
  "metadata": {
    "noteable-chatgpt": {
      "create_notebook": {
        "openai_conversation_id": "ba5435a2-c803-540c-a77b-0b80383a0ee4",
        "openai_ephemeral_user_id": "08de25bb-03e3-5507-9b10-6a3e8a7355ec",
        "openai_subdivision1_iso_code": "US-NJ"
      }
    },
    "kernel_info": {
      "name": "python3"
    },
    "noteable": {
      "last_transaction_id": "d53a1a7d-8066-44ae-a5f0-955c7ed7e843"
    },
    "kernelspec": {
      "display_name": "Python 3.9",
      "language": "python",
      "name": "python3"
    },
    "selected_hardware_size": "small",
    "colab": {
      "provenance": [],
      "include_colab_link": true
    }
  },
  "cells": [
    {
      "cell_type": "markdown",
      "metadata": {
        "id": "view-in-github",
        "colab_type": "text"
      },
      "source": [
        "<a href=\"https://colab.research.google.com/github/quanticedu/MSBA/blob/main/quantic_python_refresher_for_beginners_solutions.ipynb\" target=\"_parent\"><img src=\"https://colab.research.google.com/assets/colab-badge.svg\" alt=\"Open In Colab\"/></a>"
      ]
    },
    {
      "id": "9e7fb202-5397-432a-a766-c87383383e52",
      "cell_type": "markdown",
      "source": [
        "# **Quantic School of Business and Technology**\n",
        "# Python Refresher Crash Course for Beginners\n",
        "\n",
        "Welcome to this Python refresher crash course! This notebook is designed for absolute beginners who want to learn or revisit the basics of Python programming.\n",
        "\n",
        "## Topics Covered\n",
        "\n",
        "1. Variables and Data Types\n",
        "2.  Basic Operators\n",
        "3.  Conditional Statements\n",
        "4.  Loops\n",
        "5.  Functions\n",
        "6.  Input\n",
        "7.  Lists and Dictionaries\n",
        "8.  Modules and Libraries\n",
        "9.  Exception Handling\n",
        "\n",
        "Let's get started!"
      ],
      "metadata": {
        "noteable": {
          "cell_type": "markdown"
        },
        "id": "9e7fb202-5397-432a-a766-c87383383e52"
      }
    },
    {
      "id": "7f875c68-22ab-4c28-920b-ce67608b4446",
      "cell_type": "markdown",
      "source": [
        "## 1. Variables and Data Types\n",
        "\n",
        "In Python, a variable is a container for storing data values. Unlike other programming languages that declare the data type of a variable, Python has dynamic typing. This means that you don't need to declare the data type of a variable when you create one.\n",
        "\n",
        "### Basic Data Types\n",
        "\n",
        "- **Integers**: Whole numbers (e.g., `2`, `4`, `20`)\n",
        "- **Float**: Decimal numbers (e.g., `2.0`, `4.5`)\n",
        "- **Strings**: Ordered sequence of characters (e.g., `'hello'`, `'world'`)\n",
        "- **Booleans**: True or false values\n"
      ],
      "metadata": {
        "noteable": {
          "cell_type": "markdown"
        },
        "id": "7f875c68-22ab-4c28-920b-ce67608b4446"
      }
    },
    {
      "id": "b240705d-ab25-4baa-9774-369e065e80ff",
      "cell_type": "code",
      "metadata": {
        "noteable": {
          "cell_type": "code",
          "output_collection_id": "c03d4923-7bd5-4b66-bc81-36388b2ae10e"
        },
        "ExecuteTime": {
          "end_time": "2023-08-24T01:07:14.429381+00:00",
          "start_time": "2023-08-24T01:07:14.271103+00:00"
        },
        "colab": {
          "base_uri": "https://localhost:8080/"
        },
        "id": "b240705d-ab25-4baa-9774-369e065e80ff",
        "outputId": "116181fe-ab23-425e-fa0c-ad2cd7f72509"
      },
      "execution_count": null,
      "source": [
        "# Integer variable\n",
        "x = 10\n",
        "\n",
        "# Float variable\n",
        "y = 20.5\n",
        "\n",
        "# String variable\n",
        "name = 'John'\n",
        "\n",
        "# Boolean variable\n",
        "is_active = True\n",
        "\n",
        "# Displaying variable values\n",
        "print(f'Integer: {x}')\n",
        "print(f'Float: {y}')\n",
        "print(f'String: {name}')\n",
        "print(f'Boolean: {is_active}')"
      ],
      "outputs": [
        {
          "output_type": "stream",
          "name": "stdout",
          "text": [
            "Integer: 10\n",
            "Float: 20.5\n",
            "String: John\n",
            "Boolean: True\n"
          ]
        }
      ]
    },
    {
      "id": "8eb6ed4e-f435-446f-b9b3-38af0099d0dd",
      "cell_type": "markdown",
      "source": [
        "#### **Exercise Solutions**\n",
        "\n",
        "1. Create a variable named `age` and assign it a value of 25. Print the variable.\n",
        "2. Create two variables `a` and `b` with values 10 and 20 respectively. Swap their values without using a third variable.Print the swapped values."
      ],
      "metadata": {
        "noteable": {
          "cell_type": "markdown"
        },
        "id": "8eb6ed4e-f435-446f-b9b3-38af0099d0dd"
      }
    },
    {
      "cell_type": "code",
      "source": [
        "#Create a variable named age and assign it a value of 25. Print the variable.\n",
        "age = 25\n",
        "print(age)\n",
        "\n",
        "# Create two variables a and b with values 10 and 20 respectively.\n",
        "a = 10\n",
        "b = 20\n",
        "\n",
        "# Swap their values without using a third variable.\n",
        "a, b = b, a\n",
        "\n",
        "# Print the swapped values\n",
        "print('a:', a)\n",
        "print('b:', b)"
      ],
      "metadata": {
        "id": "BGM1KqoMPN-G"
      },
      "id": "BGM1KqoMPN-G",
      "execution_count": null,
      "outputs": []
    },
    {
      "id": "86f55740-b61b-4462-9a34-c3861b802455",
      "cell_type": "markdown",
      "source": [
        "## 2. Basic Operators\n",
        "\n",
        "Python provides a variety of operators for performing operations like addition, subtraction, multiplication, and division."
      ],
      "metadata": {
        "noteable": {
          "cell_type": "markdown"
        },
        "id": "86f55740-b61b-4462-9a34-c3861b802455"
      }
    },
    {
      "id": "cd75da24-0da8-4a97-b9c5-5cfd1249653b",
      "cell_type": "code",
      "metadata": {
        "noteable": {
          "cell_type": "code",
          "output_collection_id": "e27d05aa-9a55-4f18-8884-a3f9a9cfb882"
        },
        "ExecuteTime": {
          "end_time": "2023-08-24T01:07:42.938949+00:00",
          "start_time": "2023-08-24T01:07:42.780400+00:00"
        },
        "colab": {
          "base_uri": "https://localhost:8080/"
        },
        "id": "cd75da24-0da8-4a97-b9c5-5cfd1249653b",
        "outputId": "d0d248f1-268b-400c-e307-c661ec777c4c"
      },
      "execution_count": null,
      "source": [
        "# Addition\n",
        "addition_result = 5 + 3\n",
        "\n",
        "# Subtraction\n",
        "subtraction_result = 10 - 2\n",
        "\n",
        "# Multiplication\n",
        "multiplication_result = 4 * 3\n",
        "\n",
        "# Division\n",
        "division_result = 8 / 2\n",
        "\n",
        "# Displaying results\n",
        "print(f'Addition: {addition_result}')\n",
        "print(f'Subtraction: {subtraction_result}')\n",
        "print(f'Multiplication: {multiplication_result}')\n",
        "print(f'Division: {division_result}')"
      ],
      "outputs": [
        {
          "output_type": "stream",
          "name": "stdout",
          "text": [
            "Addition: 8\n",
            "Subtraction: 8\n",
            "Multiplication: 12\n",
            "Division: 4.0\n"
          ]
        }
      ]
    },
    {
      "id": "fcfb41ea-961a-4a02-8e65-791a7cb47a76",
      "cell_type": "markdown",
      "source": [
        "## 3. Conditional Statements\n",
        "\n",
        "Conditional statements in Python allow you to execute certain blocks of code based on specific conditions."
      ],
      "metadata": {
        "noteable": {
          "cell_type": "markdown"
        },
        "id": "fcfb41ea-961a-4a02-8e65-791a7cb47a76"
      }
    },
    {
      "id": "3dd8ae19-af90-476b-b47f-411da0d65f02",
      "cell_type": "code",
      "metadata": {
        "noteable": {
          "cell_type": "code",
          "output_collection_id": "0c54807d-f0c1-495a-b7d4-ca1d3c019cb2"
        },
        "ExecuteTime": {
          "end_time": "2023-08-24T01:09:02.145585+00:00",
          "start_time": "2023-08-24T01:09:01.987298+00:00"
        },
        "colab": {
          "base_uri": "https://localhost:8080/"
        },
        "id": "3dd8ae19-af90-476b-b47f-411da0d65f02",
        "outputId": "d39c53c9-8d0f-40a7-c65c-b5beeb652636"
      },
      "execution_count": null,
      "source": [
        "# Example of if-else statement\n",
        "age = 18\n",
        "\n",
        "if age >= 18:\n",
        "    print('You are eligible to vote.')\n",
        "else:\n",
        "    print('You are not eligible to vote.')"
      ],
      "outputs": [
        {
          "output_type": "stream",
          "name": "stdout",
          "text": [
            "You are eligible to vote.\n"
          ]
        }
      ]
    },
    {
      "id": "763c7587-5d5a-4b86-9829-ccb188a4a948",
      "cell_type": "markdown",
      "source": [
        "## 4. Loops\n",
        "\n",
        "Loops are used to execute a block of code repeatedly. Python provides `for` and `while` loops."
      ],
      "metadata": {
        "noteable": {
          "cell_type": "markdown"
        },
        "id": "763c7587-5d5a-4b86-9829-ccb188a4a948"
      }
    },
    {
      "id": "34e50b8d-2c06-47c5-bd1c-0522f5877c00",
      "cell_type": "code",
      "metadata": {
        "noteable": {
          "cell_type": "code",
          "output_collection_id": "0fc340fc-64f7-4eb5-91c0-9db84aaa1b8d"
        },
        "ExecuteTime": {
          "end_time": "2023-08-24T01:09:27.273828+00:00",
          "start_time": "2023-08-24T01:09:27.115488+00:00"
        },
        "colab": {
          "base_uri": "https://localhost:8080/"
        },
        "id": "34e50b8d-2c06-47c5-bd1c-0522f5877c00",
        "outputId": "ce7fff5d-b9d5-4e6b-f17b-1564b82a3eb8"
      },
      "execution_count": null,
      "source": [
        "# Example of for loop\n",
        "for i in range(5):\n",
        "    print(f'Iteration {i + 1}')\n",
        "\n",
        "# Example of while loop\n",
        "count = 1\n",
        "while count <= 5:\n",
        "    print(f'Count: {count}')\n",
        "    count += 1"
      ],
      "outputs": [
        {
          "output_type": "stream",
          "name": "stdout",
          "text": [
            "Iteration 1\n",
            "Iteration 2\n",
            "Iteration 3\n",
            "Iteration 4\n",
            "Iteration 5\n",
            "Count: 1\n",
            "Count: 2\n",
            "Count: 3\n",
            "Count: 4\n",
            "Count: 5\n"
          ]
        }
      ]
    },
    {
      "cell_type": "markdown",
      "source": [
        "#### **Exercise Solutions**\n",
        "\n",
        "1. Write a Python program to calculate the factorial of a number using a for loop. The factorial of a number n is the product of all positive integers less than or equal to n.\n",
        "\n",
        "2. Write a Python program that takes a number as input and checks whether the number is a prime number or not using if and for loop. A prime number is a number greater than 1 that has no positive divisors other than 1 and itself."
      ],
      "metadata": {
        "id": "REv3AUVsaS5J"
      },
      "id": "REv3AUVsaS5J"
    },
    {
      "cell_type": "code",
      "source": [
        "#1. Write a Python program to calculate the factorial of a number using a for loop.\n",
        "\n",
        "def factorial(n):\n",
        "    result = 1\n",
        "    for i in range(1, n + 1):\n",
        "        result *= i\n",
        "    return result\n",
        "\n",
        "# Test the function\n",
        "print('Factorial of 5:', factorial(5))\n",
        "\n",
        "# 2. Write a Python program that takes a number as input and checks whether the number is a prime number or not using if and for loop.\n",
        "\n",
        "def is_prime(num):\n",
        "    if num <= 1:\n",
        "        return False\n",
        "    for i in range(2, num):\n",
        "        if num % i == 0:\n",
        "            return False\n",
        "    return True\n",
        "\n",
        "# Test the function\n",
        "print('Is 7 a prime number?', is_prime(7))\n",
        "print('Is 10 a prime number?', is_prime(10))"
      ],
      "metadata": {
        "id": "VhOuXpgtaR2S"
      },
      "id": "VhOuXpgtaR2S",
      "execution_count": null,
      "outputs": []
    },
    {
      "id": "439fa359-eeee-458b-9f27-a4c91422cbce",
      "cell_type": "markdown",
      "source": [
        "## 5. Functions\n",
        "\n",
        "Functions in Python are blocks of reusable code. Functions are defined using the `def` keyword."
      ],
      "metadata": {
        "noteable": {
          "cell_type": "markdown"
        },
        "id": "439fa359-eeee-458b-9f27-a4c91422cbce"
      }
    },
    {
      "id": "fe310bfc-4f30-4cc6-b6d4-418930d4fa4b",
      "cell_type": "code",
      "metadata": {
        "noteable": {
          "cell_type": "code",
          "output_collection_id": "68a1a9dc-8b1c-47ba-b049-6b9723f430f4"
        },
        "ExecuteTime": {
          "end_time": "2023-08-24T01:10:10.153101+00:00",
          "start_time": "2023-08-24T01:10:09.994997+00:00"
        },
        "colab": {
          "base_uri": "https://localhost:8080/"
        },
        "id": "fe310bfc-4f30-4cc6-b6d4-418930d4fa4b",
        "outputId": "043e23b4-a4b4-4b42-986f-f31ff6d72d34"
      },
      "execution_count": null,
      "source": [
        "# Defining a function to add two numbers\n",
        "def add_numbers(a, b):\n",
        "    return a + b\n",
        "\n",
        "# Using the function\n",
        "result = add_numbers(5, 3)\n",
        "print(f'The sum is: {result}')"
      ],
      "outputs": [
        {
          "output_type": "stream",
          "name": "stdout",
          "text": [
            "The sum is: 8\n"
          ]
        }
      ]
    },
    {
      "id": "9fbff982-f336-428b-b3a4-814edf08eb93",
      "cell_type": "markdown",
      "source": [
        "#### **Exercise Solutions**\n",
        "\n",
        "1. Write a function named `add` that takes two parameters and returns their sum.\n",
        "2. Write a function named `is_even` that takes a number as a parameter and returns `True` if the number is even, otherwise returns `False`."
      ],
      "metadata": {
        "noteable": {
          "cell_type": "markdown"
        },
        "id": "9fbff982-f336-428b-b3a4-814edf08eb93"
      }
    },
    {
      "cell_type": "code",
      "source": [
        "# Function named 'add' that takes two parameters and returns their sum\n",
        "def add(a, b):\n",
        "    return a + b\n",
        "\n",
        "# Test the 'add' function\n",
        "result = add(5, 10)\n",
        "print('Sum:', result)\n",
        "\n",
        "# Function named 'is_even' that takes a number as a parameter\n",
        "# and returns True if the number is even, otherwise returns False\n",
        "def is_even(number):\n",
        "    return number % 2 == 0\n",
        "\n",
        "# Test the 'is_even' function\n",
        "print('Is 4 even?', is_even(4))\n",
        "print('Is 5 even?', is_even(5))"
      ],
      "metadata": {
        "id": "4OGNvusrP5aM"
      },
      "id": "4OGNvusrP5aM",
      "execution_count": null,
      "outputs": []
    },
    {
      "cell_type": "markdown",
      "source": [
        "## 6. Input\n",
        "The input() function collects user input as a string, while the print() function displays output to the console.\n",
        "\n",
        " Write a Python function called greeting() that takes the user's name and age as input and prints out a personalized greeting message saying, \"Hello [name], you are [age] years old.\""
      ],
      "metadata": {
        "noteable": {
          "cell_type": "markdown"
        },
        "id": "Y4He6jIbiJes"
      },
      "id": "Y4He6jIbiJes"
    },
    {
      "cell_type": "code",
      "source": [
        "\n",
        "def greeting():\n",
        "    name = input('Enter your name: ')\n",
        "    age = int(input('Enter your age: '))\n",
        "    print(f'Hello {name}, you are {age} years old.')\n",
        "\n",
        "# Test the function (Note: Uncomment the line below to test the function)\n",
        "# greeting()"
      ],
      "metadata": {
        "id": "iiDRxJeejtFC"
      },
      "id": "iiDRxJeejtFC",
      "execution_count": null,
      "outputs": []
    },
    {
      "id": "07fe3801-80a2-49c7-ba87-3b0e6a646cb0",
      "cell_type": "markdown",
      "source": [
        "## 7. Lists\n",
        "\n",
        "Lists in Python are ordered collections of items. Lists are defined by enclosing the items in square brackets `[]`."
      ],
      "metadata": {
        "noteable": {
          "cell_type": "markdown"
        },
        "id": "07fe3801-80a2-49c7-ba87-3b0e6a646cb0"
      }
    },
    {
      "id": "447408b4-c325-4263-a26e-1f4d5b101216",
      "cell_type": "markdown",
      "source": [
        "\n",
        "\n",
        "Create a list named `fruits` containing the elements 'Apple', 'Banana', and 'Cherry'. Print the list.\n",
        "Add the element 'Orange' to the `fruits` list and remove the element 'Banana'. Print the updated list."
      ],
      "metadata": {
        "noteable": {
          "cell_type": "markdown"
        },
        "id": "447408b4-c325-4263-a26e-1f4d5b101216"
      }
    },
    {
      "id": "785bc73c-d458-4ea5-aee9-813fffc9245a",
      "cell_type": "code",
      "metadata": {
        "noteable": {
          "cell_type": "code",
          "output_collection_id": "f3d88fa5-e625-4abc-91a7-3576a96f24c6"
        },
        "ExecuteTime": {
          "end_time": "2023-08-24T01:10:38.725397+00:00",
          "start_time": "2023-08-24T01:10:38.566346+00:00"
        },
        "colab": {
          "base_uri": "https://localhost:8080/"
        },
        "id": "785bc73c-d458-4ea5-aee9-813fffc9245a",
        "outputId": "22f344ad-bbf5-44e9-a5b1-f253f12ae633"
      },
      "execution_count": null,
      "source": [
        "# Creating a list\n",
        "fruits = ['apple', 'banana', 'cherry']\n",
        "\n",
        "# Accessing elements\n",
        "print(f'First fruit: {fruits[0]}')\n",
        "print(f'Second fruit: {fruits[1]}')\n",
        "\n",
        "# Adding an element\n",
        "fruits.append('orange')\n",
        "print(f'Updated list: {fruits}')\n",
        "\n",
        "# Removing an element\n",
        "fruits.remove('banana')\n",
        "print(f'Updated list: {fruits}')"
      ],
      "outputs": [
        {
          "output_type": "stream",
          "name": "stdout",
          "text": [
            "First fruit: apple\n",
            "Second fruit: banana\n",
            "Updated list: ['apple', 'banana', 'cherry', 'orange']\n",
            "Updated list: ['apple', 'cherry', 'orange']\n"
          ]
        }
      ]
    },
    {
      "id": "37c1d7aa-a2b8-4843-af76-ab92e7416116",
      "cell_type": "markdown",
      "source": [
        "## Dictionaries\n",
        "\n",
        "Dictionaries in Python are unordered collections of key-value pairs. Dictionaries are defined by enclosing the key-value pairs in curly braces `{}`."
      ],
      "metadata": {
        "noteable": {
          "cell_type": "markdown"
        },
        "id": "37c1d7aa-a2b8-4843-af76-ab92e7416116"
      }
    },
    {
      "id": "b18a1781-9764-405c-a69e-7ae06a012c8a",
      "cell_type": "markdown",
      "source": [
        "\n",
        "\n",
        "Create a dictionary named `student` with keys `name`, `age`, and `grade` and assign them appropriate values. Print the dictionary.\n",
        "Update the `grade` of the `student` dictionary to 'A+'. Print the updated dictionary."
      ],
      "metadata": {
        "noteable": {
          "cell_type": "markdown"
        },
        "id": "b18a1781-9764-405c-a69e-7ae06a012c8a"
      }
    },
    {
      "id": "d256c96d-6e72-4634-8575-f74c6e589919",
      "cell_type": "code",
      "metadata": {
        "noteable": {
          "cell_type": "code",
          "output_collection_id": "63f20283-4cd8-4c7c-b6fa-2d21da1de77b"
        },
        "ExecuteTime": {
          "end_time": "2023-08-24T01:11:08.054704+00:00",
          "start_time": "2023-08-24T01:11:07.895787+00:00"
        },
        "colab": {
          "base_uri": "https://localhost:8080/"
        },
        "id": "d256c96d-6e72-4634-8575-f74c6e589919",
        "outputId": "dcca5aec-19f0-4049-9df7-b101bca6c6cf"
      },
      "execution_count": null,
      "source": [
        "# Creating a dictionary\n",
        "student = {'name': 'John', 'age': 20, 'grade': 'A'}\n",
        "\n",
        "# Accessing elements\n",
        "print(f'Name: {student[\"name\"]}')\n",
        "print(f'Age: {student[\"age\"]}')\n",
        "\n",
        "# Adding a key-value pair\n",
        "student['subject'] = 'Math'\n",
        "print(f'Updated dictionary: {student}')\n",
        "\n",
        "# Removing a key-value pair\n",
        "del student['age']\n",
        "print(f'Updated dictionary: {student}')"
      ],
      "outputs": [
        {
          "output_type": "stream",
          "name": "stdout",
          "text": [
            "Name: John\n",
            "Age: 20\n",
            "Updated dictionary: {'name': 'John', 'age': 20, 'grade': 'A', 'subject': 'Math'}\n",
            "Updated dictionary: {'name': 'John', 'grade': 'A', 'subject': 'Math'}\n"
          ]
        }
      ]
    },
    {
      "id": "28014e51-4f0e-41f8-aec7-2cc636653f92",
      "cell_type": "markdown",
      "source": [
        "## File Handling\n",
        "\n",
        "Python provides built-in functions to read and write files. The `open()` function is used to open a file, and it returns a file object."
      ],
      "metadata": {
        "noteable": {
          "cell_type": "markdown"
        },
        "id": "28014e51-4f0e-41f8-aec7-2cc636653f92"
      }
    },
    {
      "id": "54fde3c6-cdd1-4d6d-882c-a371c087cd4c",
      "cell_type": "markdown",
      "source": [
        "\n",
        "\n",
        " Write a Python code snippet to create a text file named `sample.txt` and write the text 'Hello, World!' into it.\n",
        "Write a Python code snippet to read the content of the `sample.txt` file and print it."
      ],
      "metadata": {
        "noteable": {
          "cell_type": "markdown"
        },
        "id": "54fde3c6-cdd1-4d6d-882c-a371c087cd4c"
      }
    },
    {
      "id": "1566f521-c980-4df5-be20-370b6278f826",
      "cell_type": "code",
      "metadata": {
        "noteable": {
          "cell_type": "code",
          "output_collection_id": "1a100aab-bb36-48bf-85af-429b401fc4c5"
        },
        "ExecuteTime": {
          "end_time": "2023-08-24T01:11:52.235665+00:00",
          "start_time": "2023-08-24T01:11:52.077404+00:00"
        },
        "colab": {
          "base_uri": "https://localhost:8080/"
        },
        "id": "1566f521-c980-4df5-be20-370b6278f826",
        "outputId": "fdd75d45-2c4f-4ff1-8cf6-8b409f2d746b"
      },
      "execution_count": null,
      "source": [
        "# Writing to a file\n",
        "with open('example.txt', 'w') as file:\n",
        "    file.write('Hello, world!')\n",
        "\n",
        "# Reading from a file\n",
        "with open('example.txt', 'r') as file:\n",
        "    content = file.read()\n",
        "    print(f'File content: {content}')"
      ],
      "outputs": [
        {
          "output_type": "stream",
          "name": "stdout",
          "text": [
            "File content: Hello, world!\n"
          ]
        }
      ]
    },
    {
      "cell_type": "markdown",
      "source": [
        "#### **Exercise Solutions**\n",
        "\n",
        "1. Write a Python program to find the largest number in a list.\n",
        "\n",
        "2. Write a Python program to count the frequency of each word in a given sentence. Store the frequency in a dictionary.\n",
        "\n",
        "3. Write a Python program to read a text file and print its content."
      ],
      "metadata": {
        "id": "1Uc9whLrc1pZ"
      },
      "id": "1Uc9whLrc1pZ"
    },
    {
      "cell_type": "code",
      "source": [
        "# 1. Write a Python program to find the largest number in a list.\n",
        "def find_largest_number(lst):\n",
        "    return max(lst)\n",
        "\n",
        "# Test the function\n",
        "numbers = [1, 5, 8, 3, 9]\n",
        "print('Largest number in the list:', find_largest_number(numbers))\n",
        "\n",
        "# 2. Write a Python program to count the frequency of each word in a given sentence. Store the frequency in a dictionary.\n",
        "def word_frequency(sentence):\n",
        "    words = sentence.split()\n",
        "    frequency = {}\n",
        "    for word in words:\n",
        "        frequency[word] = frequency.get(word, 0) + 1\n",
        "    return frequency\n",
        "\n",
        "# Test the function\n",
        "sentence = 'hello world hello'\n",
        "print('Word frequency:', word_frequency(sentence))\n",
        "\n",
        "# 3. Write a Python program to read a text file and print its content.\n",
        "def read_file(file_path):\n",
        "    with open(file_path, 'r') as file:\n",
        "        return file.read()\n",
        "\n",
        "# Test the function (Note: Create a text file named 'sample.txt' with some content before running this code)\n",
        "# print('File content:', read_file('sample.txt'))"
      ],
      "metadata": {
        "id": "p5wn5RzOc0vm"
      },
      "id": "p5wn5RzOc0vm",
      "execution_count": null,
      "outputs": []
    },
    {
      "id": "7926d6bd-f5b2-47ad-ad47-515f3e04c54f",
      "cell_type": "markdown",
      "source": [
        "## 8. Modules\n",
        "\n",
        "Modules in Python are simply Python files with a `.py` extension. The name of the module will be the name of the file. You can use the `import` keyword to use modules in your code."
      ],
      "metadata": {
        "noteable": {
          "cell_type": "markdown"
        },
        "id": "7926d6bd-f5b2-47ad-ad47-515f3e04c54f"
      }
    },
    {
      "id": "1a1b3135-a21f-4786-911c-a77f05e78687",
      "cell_type": "markdown",
      "source": [
        "\n",
        "\n",
        "Import the `math` module and use it to calculate the square root of 64.\n",
        "Import the `datetime` module and use it to print the current date and time."
      ],
      "metadata": {
        "noteable": {
          "cell_type": "markdown"
        },
        "id": "1a1b3135-a21f-4786-911c-a77f05e78687"
      }
    },
    {
      "id": "23d2995b-5283-4700-a69d-9343ed3ae800",
      "cell_type": "code",
      "metadata": {
        "noteable": {
          "cell_type": "code",
          "output_collection_id": "79b326e8-3b81-45a6-9239-3000a8910746"
        },
        "ExecuteTime": {
          "end_time": "2023-08-24T01:12:17.921331+00:00",
          "start_time": "2023-08-24T01:12:17.764042+00:00"
        },
        "colab": {
          "base_uri": "https://localhost:8080/"
        },
        "id": "23d2995b-5283-4700-a69d-9343ed3ae800",
        "outputId": "f8328b82-38cd-4139-bc96-40667b60438c"
      },
      "execution_count": null,
      "source": [
        "# Importing the math module\n",
        "import math\n",
        "\n",
        "# Using a function from the math module\n",
        "result = math.sqrt(25)\n",
        "print(f'Square root of 25 is: {result}')"
      ],
      "outputs": [
        {
          "output_type": "stream",
          "name": "stdout",
          "text": [
            "Square root of 25 is: 5.0\n"
          ]
        }
      ]
    },
    {
      "id": "24a72f1a-d5b8-478e-984f-6084ae76c5be",
      "cell_type": "markdown",
      "source": [
        "## 9. Exception Handling\n",
        "\n",
        "Python uses try-except blocks for exception handling. The code that can cause an exception to occur is put in the `try` block, and the handling of the exception is implemented in the `except` block."
      ],
      "metadata": {
        "noteable": {
          "cell_type": "markdown"
        },
        "id": "24a72f1a-d5b8-478e-984f-6084ae76c5be"
      }
    },
    {
      "id": "ea21e590-2438-49dc-872e-9e082fa5ae3d",
      "cell_type": "markdown",
      "source": [
        "\n",
        "\n",
        "Write a Python code snippet that tries to divide 10 by 0 and catches the `ZeroDivisionError`."
      ],
      "metadata": {
        "noteable": {
          "cell_type": "markdown"
        },
        "id": "ea21e590-2438-49dc-872e-9e082fa5ae3d"
      }
    },
    {
      "id": "b7ab47bd-e629-43f5-a5cb-6f97b8b46b6f",
      "cell_type": "code",
      "metadata": {
        "noteable": {
          "cell_type": "code",
          "output_collection_id": "53a91995-5709-400a-9aa2-cef2954915d2"
        },
        "ExecuteTime": {
          "end_time": "2023-08-24T01:12:42.283501+00:00",
          "start_time": "2023-08-24T01:12:42.125458+00:00"
        },
        "colab": {
          "base_uri": "https://localhost:8080/"
        },
        "id": "b7ab47bd-e629-43f5-a5cb-6f97b8b46b6f",
        "outputId": "2e42d3bb-c79a-4e99-ebfc-495babd6dad8"
      },
      "execution_count": null,
      "source": [
        "# Exception handling example\n",
        "try:\n",
        "    result = 10 / 0\n",
        "except ZeroDivisionError:\n",
        "    print('Cannot divide by zero.')"
      ],
      "outputs": [
        {
          "output_type": "stream",
          "name": "stdout",
          "text": [
            "Cannot divide by zero.\n"
          ]
        }
      ]
    }
  ]
}