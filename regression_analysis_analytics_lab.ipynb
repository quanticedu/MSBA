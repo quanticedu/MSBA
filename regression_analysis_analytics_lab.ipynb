{
  "cells": [
    {
      "cell_type": "markdown",
      "metadata": {
        "id": "view-in-github",
        "colab_type": "text"
      },
      "source": [
        "<a href=\"https://colab.research.google.com/github/quanticedu/MSBA/blob/main/regression_analysis_analytics_lab.ipynb\" target=\"_parent\"><img src=\"https://colab.research.google.com/assets/colab-badge.svg\" alt=\"Open In Colab\"/></a>"
      ]
    },
    {
      "cell_type": "markdown",
      "source": [
        "\n",
        "# **Analytics Lab: Predicting Lemonade Sales with Regression**\n"
      ],
      "metadata": {
        "id": "v-Jaifbaq06t"
      },
      "id": "v-Jaifbaq06t"
    },
    {
      "cell_type": "markdown",
      "source": [
        "##Scenario\n",
        "\n",
        "A very ambitious and wealthy youngster named Richie has hired you to do data analytics at his lemonade stand, with the aim of optimizing his lemonade production. 🍋\n",
        "\n",
        "By examining Richie's past sales data, you've noticed that the temperature affects the number of lemonades Richie sells each day.\n",
        "\n",
        "**Your task: Using the provided dataset, build a simple regression model to predict the number of lemonades he'll sell, based on the day's temperature.**\n",
        "\n",
        "\n",
        "##Discussion Questions\n",
        "\n",
        "Discuss with your team members:\n",
        "\n",
        "1. How reliable is the model in predicting lemonade sales, and what limitations exist?\n",
        "2. What other variables might impact lemonade sales, and how could they improve the model?\n",
        "3. Can the model handle extreme temperatures outside the historical data range?"
      ],
      "metadata": {
        "id": "jI6ohAC57m7Z"
      },
      "id": "jI6ohAC57m7Z"
    },
    {
      "cell_type": "markdown",
      "source": [
        "#Technical  Challenges\n",
        "\n",
        "\n",
        "1.   **Graphing the Data**: Plot the relationship between the temperature and the number of lemonades sold. What trend do you observe?\n",
        "\n",
        "2.   **Building the Regression Model**: Using the provided data, build a linear regression model to predict the number of lemonades sold based on the temperature.\n",
        "\n",
        "3.  **Graphing the Model**: Plot the original data and add the regression line to visualize the model.\n",
        "\n",
        "4.  **Deploying the Model**: Write a simple function that takes in a temperature value and returns the predicted number of lemonades sold.\n",
        "\n",
        "Below are possible solutions for these technical challenges."
      ],
      "metadata": {
        "id": "HbTuijl160si"
      },
      "id": "HbTuijl160si"
    },
    {
      "cell_type": "markdown",
      "source": [
        "# Setup"
      ],
      "metadata": {
        "id": "yWXMUKdu6sZK"
      },
      "id": "yWXMUKdu6sZK"
    },
    {
      "cell_type": "markdown",
      "source": [
        "Let's import libraries and load the data before starting with the challenges."
      ],
      "metadata": {
        "id": "s1ul6yd9rkxq"
      },
      "id": "s1ul6yd9rkxq"
    },
    {
      "cell_type": "code",
      "source": [
        "import numpy as np\n",
        "import pandas as pd\n",
        "import matplotlib.pyplot as plt\n",
        "from sklearn.linear_model import LinearRegression\n",
        "from sklearn.model_selection import train_test_split\n",
        "from sklearn.metrics import mean_squared_error, r2_score\n",
        "\n",
        "# Load the dataset\n",
        "lemonade_data = pd.read_csv('lemonade_sales_data.csv')\n",
        "\n",
        "# Display the first few rows of the dataframe\n",
        "lemonade_data.head()"
      ],
      "outputs": [
        {
          "output_type": "execute_result",
          "data": {
            "text/plain": [
              "   Temperature       Sales\n",
              "0    38.820262  185.292292\n",
              "1    32.000786  132.524768\n",
              "2    34.893690  141.976220\n",
              "3    41.204466  183.307365\n",
              "4    39.337790  156.282136"
            ],
            "text/html": [
              "\n",
              "  <div id=\"df-6c2ef535-6c1f-4a81-ad39-a5651c0e2d4b\" class=\"colab-df-container\">\n",
              "    <div>\n",
              "<style scoped>\n",
              "    .dataframe tbody tr th:only-of-type {\n",
              "        vertical-align: middle;\n",
              "    }\n",
              "\n",
              "    .dataframe tbody tr th {\n",
              "        vertical-align: top;\n",
              "    }\n",
              "\n",
              "    .dataframe thead th {\n",
              "        text-align: right;\n",
              "    }\n",
              "</style>\n",
              "<table border=\"1\" class=\"dataframe\">\n",
              "  <thead>\n",
              "    <tr style=\"text-align: right;\">\n",
              "      <th></th>\n",
              "      <th>Temperature</th>\n",
              "      <th>Sales</th>\n",
              "    </tr>\n",
              "  </thead>\n",
              "  <tbody>\n",
              "    <tr>\n",
              "      <th>0</th>\n",
              "      <td>38.820262</td>\n",
              "      <td>185.292292</td>\n",
              "    </tr>\n",
              "    <tr>\n",
              "      <th>1</th>\n",
              "      <td>32.000786</td>\n",
              "      <td>132.524768</td>\n",
              "    </tr>\n",
              "    <tr>\n",
              "      <th>2</th>\n",
              "      <td>34.893690</td>\n",
              "      <td>141.976220</td>\n",
              "    </tr>\n",
              "    <tr>\n",
              "      <th>3</th>\n",
              "      <td>41.204466</td>\n",
              "      <td>183.307365</td>\n",
              "    </tr>\n",
              "    <tr>\n",
              "      <th>4</th>\n",
              "      <td>39.337790</td>\n",
              "      <td>156.282136</td>\n",
              "    </tr>\n",
              "  </tbody>\n",
              "</table>\n",
              "</div>\n",
              "    <div class=\"colab-df-buttons\">\n",
              "\n",
              "  <div class=\"colab-df-container\">\n",
              "    <button class=\"colab-df-convert\" onclick=\"convertToInteractive('df-6c2ef535-6c1f-4a81-ad39-a5651c0e2d4b')\"\n",
              "            title=\"Convert this dataframe to an interactive table.\"\n",
              "            style=\"display:none;\">\n",
              "\n",
              "  <svg xmlns=\"http://www.w3.org/2000/svg\" height=\"24px\" viewBox=\"0 -960 960 960\">\n",
              "    <path d=\"M120-120v-720h720v720H120Zm60-500h600v-160H180v160Zm220 220h160v-160H400v160Zm0 220h160v-160H400v160ZM180-400h160v-160H180v160Zm440 0h160v-160H620v160ZM180-180h160v-160H180v160Zm440 0h160v-160H620v160Z\"/>\n",
              "  </svg>\n",
              "    </button>\n",
              "\n",
              "  <style>\n",
              "    .colab-df-container {\n",
              "      display:flex;\n",
              "      gap: 12px;\n",
              "    }\n",
              "\n",
              "    .colab-df-convert {\n",
              "      background-color: #E8F0FE;\n",
              "      border: none;\n",
              "      border-radius: 50%;\n",
              "      cursor: pointer;\n",
              "      display: none;\n",
              "      fill: #1967D2;\n",
              "      height: 32px;\n",
              "      padding: 0 0 0 0;\n",
              "      width: 32px;\n",
              "    }\n",
              "\n",
              "    .colab-df-convert:hover {\n",
              "      background-color: #E2EBFA;\n",
              "      box-shadow: 0px 1px 2px rgba(60, 64, 67, 0.3), 0px 1px 3px 1px rgba(60, 64, 67, 0.15);\n",
              "      fill: #174EA6;\n",
              "    }\n",
              "\n",
              "    .colab-df-buttons div {\n",
              "      margin-bottom: 4px;\n",
              "    }\n",
              "\n",
              "    [theme=dark] .colab-df-convert {\n",
              "      background-color: #3B4455;\n",
              "      fill: #D2E3FC;\n",
              "    }\n",
              "\n",
              "    [theme=dark] .colab-df-convert:hover {\n",
              "      background-color: #434B5C;\n",
              "      box-shadow: 0px 1px 3px 1px rgba(0, 0, 0, 0.15);\n",
              "      filter: drop-shadow(0px 1px 2px rgba(0, 0, 0, 0.3));\n",
              "      fill: #FFFFFF;\n",
              "    }\n",
              "  </style>\n",
              "\n",
              "    <script>\n",
              "      const buttonEl =\n",
              "        document.querySelector('#df-6c2ef535-6c1f-4a81-ad39-a5651c0e2d4b button.colab-df-convert');\n",
              "      buttonEl.style.display =\n",
              "        google.colab.kernel.accessAllowed ? 'block' : 'none';\n",
              "\n",
              "      async function convertToInteractive(key) {\n",
              "        const element = document.querySelector('#df-6c2ef535-6c1f-4a81-ad39-a5651c0e2d4b');\n",
              "        const dataTable =\n",
              "          await google.colab.kernel.invokeFunction('convertToInteractive',\n",
              "                                                    [key], {});\n",
              "        if (!dataTable) return;\n",
              "\n",
              "        const docLinkHtml = 'Like what you see? Visit the ' +\n",
              "          '<a target=\"_blank\" href=https://colab.research.google.com/notebooks/data_table.ipynb>data table notebook</a>'\n",
              "          + ' to learn more about interactive tables.';\n",
              "        element.innerHTML = '';\n",
              "        dataTable['output_type'] = 'display_data';\n",
              "        await google.colab.output.renderOutput(dataTable, element);\n",
              "        const docLink = document.createElement('div');\n",
              "        docLink.innerHTML = docLinkHtml;\n",
              "        element.appendChild(docLink);\n",
              "      }\n",
              "    </script>\n",
              "  </div>\n",
              "\n",
              "\n",
              "<div id=\"df-46103eae-412d-4eab-831b-2c69066410c1\">\n",
              "  <button class=\"colab-df-quickchart\" onclick=\"quickchart('df-46103eae-412d-4eab-831b-2c69066410c1')\"\n",
              "            title=\"Suggest charts.\"\n",
              "            style=\"display:none;\">\n",
              "\n",
              "<svg xmlns=\"http://www.w3.org/2000/svg\" height=\"24px\"viewBox=\"0 0 24 24\"\n",
              "     width=\"24px\">\n",
              "    <g>\n",
              "        <path d=\"M19 3H5c-1.1 0-2 .9-2 2v14c0 1.1.9 2 2 2h14c1.1 0 2-.9 2-2V5c0-1.1-.9-2-2-2zM9 17H7v-7h2v7zm4 0h-2V7h2v10zm4 0h-2v-4h2v4z\"/>\n",
              "    </g>\n",
              "</svg>\n",
              "  </button>\n",
              "\n",
              "<style>\n",
              "  .colab-df-quickchart {\n",
              "      --bg-color: #E8F0FE;\n",
              "      --fill-color: #1967D2;\n",
              "      --hover-bg-color: #E2EBFA;\n",
              "      --hover-fill-color: #174EA6;\n",
              "      --disabled-fill-color: #AAA;\n",
              "      --disabled-bg-color: #DDD;\n",
              "  }\n",
              "\n",
              "  [theme=dark] .colab-df-quickchart {\n",
              "      --bg-color: #3B4455;\n",
              "      --fill-color: #D2E3FC;\n",
              "      --hover-bg-color: #434B5C;\n",
              "      --hover-fill-color: #FFFFFF;\n",
              "      --disabled-bg-color: #3B4455;\n",
              "      --disabled-fill-color: #666;\n",
              "  }\n",
              "\n",
              "  .colab-df-quickchart {\n",
              "    background-color: var(--bg-color);\n",
              "    border: none;\n",
              "    border-radius: 50%;\n",
              "    cursor: pointer;\n",
              "    display: none;\n",
              "    fill: var(--fill-color);\n",
              "    height: 32px;\n",
              "    padding: 0;\n",
              "    width: 32px;\n",
              "  }\n",
              "\n",
              "  .colab-df-quickchart:hover {\n",
              "    background-color: var(--hover-bg-color);\n",
              "    box-shadow: 0 1px 2px rgba(60, 64, 67, 0.3), 0 1px 3px 1px rgba(60, 64, 67, 0.15);\n",
              "    fill: var(--button-hover-fill-color);\n",
              "  }\n",
              "\n",
              "  .colab-df-quickchart-complete:disabled,\n",
              "  .colab-df-quickchart-complete:disabled:hover {\n",
              "    background-color: var(--disabled-bg-color);\n",
              "    fill: var(--disabled-fill-color);\n",
              "    box-shadow: none;\n",
              "  }\n",
              "\n",
              "  .colab-df-spinner {\n",
              "    border: 2px solid var(--fill-color);\n",
              "    border-color: transparent;\n",
              "    border-bottom-color: var(--fill-color);\n",
              "    animation:\n",
              "      spin 1s steps(1) infinite;\n",
              "  }\n",
              "\n",
              "  @keyframes spin {\n",
              "    0% {\n",
              "      border-color: transparent;\n",
              "      border-bottom-color: var(--fill-color);\n",
              "      border-left-color: var(--fill-color);\n",
              "    }\n",
              "    20% {\n",
              "      border-color: transparent;\n",
              "      border-left-color: var(--fill-color);\n",
              "      border-top-color: var(--fill-color);\n",
              "    }\n",
              "    30% {\n",
              "      border-color: transparent;\n",
              "      border-left-color: var(--fill-color);\n",
              "      border-top-color: var(--fill-color);\n",
              "      border-right-color: var(--fill-color);\n",
              "    }\n",
              "    40% {\n",
              "      border-color: transparent;\n",
              "      border-right-color: var(--fill-color);\n",
              "      border-top-color: var(--fill-color);\n",
              "    }\n",
              "    60% {\n",
              "      border-color: transparent;\n",
              "      border-right-color: var(--fill-color);\n",
              "    }\n",
              "    80% {\n",
              "      border-color: transparent;\n",
              "      border-right-color: var(--fill-color);\n",
              "      border-bottom-color: var(--fill-color);\n",
              "    }\n",
              "    90% {\n",
              "      border-color: transparent;\n",
              "      border-bottom-color: var(--fill-color);\n",
              "    }\n",
              "  }\n",
              "</style>\n",
              "\n",
              "  <script>\n",
              "    async function quickchart(key) {\n",
              "      const quickchartButtonEl =\n",
              "        document.querySelector('#' + key + ' button');\n",
              "      quickchartButtonEl.disabled = true;  // To prevent multiple clicks.\n",
              "      quickchartButtonEl.classList.add('colab-df-spinner');\n",
              "      try {\n",
              "        const charts = await google.colab.kernel.invokeFunction(\n",
              "            'suggestCharts', [key], {});\n",
              "      } catch (error) {\n",
              "        console.error('Error during call to suggestCharts:', error);\n",
              "      }\n",
              "      quickchartButtonEl.classList.remove('colab-df-spinner');\n",
              "      quickchartButtonEl.classList.add('colab-df-quickchart-complete');\n",
              "    }\n",
              "    (() => {\n",
              "      let quickchartButtonEl =\n",
              "        document.querySelector('#df-46103eae-412d-4eab-831b-2c69066410c1 button');\n",
              "      quickchartButtonEl.style.display =\n",
              "        google.colab.kernel.accessAllowed ? 'block' : 'none';\n",
              "    })();\n",
              "  </script>\n",
              "</div>\n",
              "    </div>\n",
              "  </div>\n"
            ]
          },
          "metadata": {},
          "execution_count": 8
        }
      ],
      "execution_count": null,
      "metadata": {
        "noteable": {
          "cell_type": "code"
        },
        "ExecuteTime": {
          "end_time": "2023-11-05T05:43:54.684744+00:00",
          "start_time": "2023-11-05T05:43:54.028445+00:00"
        },
        "datalink": {
          "fa65be6f-02d6-443b-b3df-0a9689cae37f": {
            "applied_filters": [],
            "dataframe_info": {
              "default_index_used": true,
              "orig_num_cols": 2,
              "orig_num_rows": 5,
              "orig_size_bytes": 120,
              "truncated_num_cols": 2,
              "truncated_num_rows": 5,
              "truncated_size_bytes": 120,
              "truncated_string_columns": []
            },
            "display_id": "fa65be6f-02d6-443b-b3df-0a9689cae37f",
            "dx_settings": {
              "ALLOW_NOTEABLE_ATTRS": true,
              "COLUMN_SAMPLING_METHOD": "outer",
              "DB_LOCATION": ":memory:",
              "DEV_MODE": false,
              "DISPLAY_MAX_COLUMNS": 100,
              "DISPLAY_MAX_ROWS": 50000,
              "DISPLAY_MODE": "simple",
              "ENABLE_ASSIGNMENT": true,
              "ENABLE_DATALINK": true,
              "FLATTEN_COLUMN_VALUES": true,
              "FLATTEN_INDEX_VALUES": false,
              "GENERATE_DEX_METADATA": false,
              "HTML_TABLE_SCHEMA": false,
              "LOG_LEVEL": 30,
              "MAX_RENDER_SIZE_BYTES": 104857600,
              "MAX_STRING_LENGTH": 250,
              "NUM_PAST_SAMPLES_TRACKED": 3,
              "RANDOM_STATE": 12648430,
              "RESET_INDEX_VALUES": false,
              "ROW_SAMPLING_METHOD": "random",
              "SAMPLING_FACTOR": 0.1,
              "SAMPLING_METHOD": "random",
              "STRINGIFY_COLUMN_VALUES": true,
              "STRINGIFY_INDEX_VALUES": false
            },
            "sample_history": [],
            "sampling_time": "2023-11-05T05:43:54.518911",
            "user_variable_name": null,
            "variable_name": "unk_dataframe_4837e5355fc44b8f8e95d288cf3319a7"
          }
        },
        "colab": {
          "base_uri": "https://localhost:8080/",
          "height": 226
        },
        "id": "973ca97e-ef2e-4840-841c-1db0817273b9",
        "outputId": "f4a76cba-e7aa-4bbe-e981-e275e1c7ded5"
      },
      "id": "973ca97e-ef2e-4840-841c-1db0817273b9"
    },
    {
      "cell_type": "markdown",
      "source": [
        "# Solution for Challenge 1: Graphic the Data\n",
        "\n",
        "Plot the relationship between the temperature and the number of lemonades sold. What trend do you observe?"
      ],
      "metadata": {
        "id": "Qzu64AJMZlm6"
      },
      "id": "Qzu64AJMZlm6"
    },
    {
      "cell_type": "code",
      "source": [
        "# Challenge 1: Graphing the Data\n",
        "plt.figure(figsize=(10,6))\n",
        "plt.scatter(lemonade_data['Temperature'], lemonade_data['Sales'], c='blue')\n",
        "plt.title('Temperature vs Lemonade Sales')\n",
        "plt.xlabel('Temperature (Celsius)')\n",
        "plt.ylabel('Number of Lemonades Sold')\n",
        "plt.grid(True)\n",
        "plt.show()"
      ],
      "outputs": [
        {
          "output_type": "display_data",
          "data": {
            "text/plain": [
              "<Figure size 1000x600 with 1 Axes>"
            ],
            "image/png": "[encoded data removed]"
          },
          "metadata": {}
        }
      ],
      "execution_count": null,
      "metadata": {
        "noteable": {
          "cell_type": "code"
        },
        "ExecuteTime": {
          "end_time": "2023-11-05T05:44:04.798176+00:00",
          "start_time": "2023-11-05T05:44:04.383788+00:00"
        },
        "colab": {
          "base_uri": "https://localhost:8080/",
          "height": 442
        },
        "id": "c1cba22a-6b51-4a8e-9464-446296543c46",
        "outputId": "0a252afb-762b-494f-eb74-1ffb6475d3e0"
      },
      "id": "c1cba22a-6b51-4a8e-9464-446296543c46"
    },
    {
      "cell_type": "markdown",
      "source": [
        "#Solution for Challenge 2: Building the Regression Model\n",
        "\n",
        "Using the provided data, build a linear regression model to predict the number of lemonades sold based on the temperature."
      ],
      "metadata": {
        "id": "QS2JBJ4dZuut"
      },
      "id": "QS2JBJ4dZuut"
    },
    {
      "cell_type": "code",
      "source": [
        "# Challenge 2: Building the Regression Model\n",
        "X = lemonade_data[['Temperature']] # Predictor variable\n",
        "y = lemonade_data['Sales'] # Response variable\n",
        "\n",
        "# Split the data into training/testing sets\n",
        "X_train, X_test, y_train, y_test = train_test_split(X, y, test_size=0.2, random_state=0)\n",
        "\n",
        "# Create linear regression object\n",
        "regr = LinearRegression()\n",
        "\n",
        "# Train the model using the training sets\n",
        "regr.fit(X_train, y_train)\n",
        "\n",
        "# Make predictions using the testing set\n",
        "y_pred = regr.predict(X_test)\n",
        "\n",
        "# The coefficients\n",
        "print('Coefficients: \\n', regr.coef_)\n",
        "# The mean squared error\n",
        "print('Mean squared error: %.2f' % mean_squared_error(y_test, y_pred))\n",
        "# The coefficient of determination: 1 is perfect prediction\n",
        "print('Coefficient of determination: %.2f' % r2_score(y_test, y_pred))"
      ],
      "outputs": [
        {
          "output_type": "stream",
          "name": "stdout",
          "text": [
            "Coefficients: \n",
            " [3.35075057]\n",
            "Mean squared error: 98.09\n",
            "Coefficient of determination: 0.63\n"
          ]
        }
      ],
      "execution_count": null,
      "metadata": {
        "noteable": {
          "cell_type": "code"
        },
        "ExecuteTime": {
          "end_time": "2023-11-05T05:44:21.002029+00:00",
          "start_time": "2023-11-05T05:44:20.842019+00:00"
        },
        "colab": {
          "base_uri": "https://localhost:8080/"
        },
        "id": "07fb2c9d-ef26-47ab-9b78-ed7bc9cb6dd0",
        "outputId": "25a4cbfa-c6b9-42df-de88-c1a6757450ec"
      },
      "id": "07fb2c9d-ef26-47ab-9b78-ed7bc9cb6dd0"
    },
    {
      "cell_type": "markdown",
      "source": [
        "#Solution for Challenge 3: Graphing the Model\n",
        "\n",
        "Plot the original data and add the regression line to visualize the model.\n"
      ],
      "metadata": {
        "id": "ykeGeMRwZ4Jb"
      },
      "id": "ykeGeMRwZ4Jb"
    },
    {
      "cell_type": "code",
      "source": [
        "# Challenge 3: Graphing the Model\n",
        "plt.figure(figsize=(10,6))\n",
        "plt.scatter(X_train, y_train, color='blue', label='Training data')\n",
        "plt.scatter(X_test, y_test, color='green', label='Testing data')\n",
        "plt.plot(X_test, y_pred, color='red', linewidth=2, label='Regression line')\n",
        "plt.title('Temperature vs Lemonade Sales with Regression Line')\n",
        "plt.xlabel('Temperature (Celsius)')\n",
        "plt.ylabel('Number of Lemonades Sold')\n",
        "plt.legend()\n",
        "plt.grid(True)\n",
        "plt.show()"
      ],
      "outputs": [
        {
          "output_type": "display_data",
          "data": {
            "text/plain": [
              "<Figure size 1000x600 with 1 Axes>"
            ],
            "image/png": "[encoded data removed]"
          },
          "metadata": {}
        }
      ],
      "execution_count": null,
      "metadata": {
        "noteable": {
          "cell_type": "code"
        },
        "ExecuteTime": {
          "end_time": "2023-11-05T05:44:40.078319+00:00",
          "start_time": "2023-11-05T05:44:39.705671+00:00"
        },
        "colab": {
          "base_uri": "https://localhost:8080/",
          "height": 442
        },
        "id": "b951f444-cce7-42af-ac85-d69db72425f1",
        "outputId": "a87c9e5e-4f9c-47e1-b980-d6fcefffbde9"
      },
      "id": "b951f444-cce7-42af-ac85-d69db72425f1"
    },
    {
      "cell_type": "markdown",
      "source": [
        "#Solution for Challenge 4: Deploying the Model\n",
        "\n",
        "Write a simple function that takes in a temperature value and returns the predicted number of lemonades sold.\n"
      ],
      "metadata": {
        "id": "RKvus4kwaBIh"
      },
      "id": "RKvus4kwaBIh"
    },
    {
      "cell_type": "code",
      "source": [
        "# Challenge 4: Deploying the Model\n",
        "def predict_lemonade_sales(temperature):\n",
        "    # Reshape the input as it expects a 2D array\n",
        "    temperature_reshaped = np.array(temperature).reshape(-1, 1)\n",
        "    # Predict the sales\n",
        "    predicted_sales = regr.predict(temperature_reshaped)\n",
        "    return predicted_sales[0]\n",
        "\n",
        "# Test the function with a temperature value\n",
        "test_temperature = 30 # example temperature\n",
        "predicted_sales = predict_lemonade_sales(test_temperature)\n",
        "print(f'Predicted number of lemonades sold at {test_temperature}°C: {predicted_sales:.2f}')"
      ],
      "outputs": [
        {
          "output_type": "stream",
          "name": "stdout",
          "text": [
            "Predicted number of lemonades sold at 30°C: 141.39\n"
          ]
        },
        {
          "output_type": "stream",
          "name": "stderr",
          "text": [
            "/usr/local/lib/python3.10/dist-packages/sklearn/base.py:439: UserWarning: X does not have valid feature names, but LinearRegression was fitted with feature names\n",
            "  warnings.warn(\n"
          ]
        }
      ],
      "execution_count": null,
      "metadata": {
        "noteable": {
          "cell_type": "code"
        },
        "ExecuteTime": {
          "end_time": "2023-11-05T05:44:56.967441+00:00",
          "start_time": "2023-11-05T05:44:56.812103+00:00"
        },
        "colab": {
          "base_uri": "https://localhost:8080/"
        },
        "id": "83a6a94b-538f-4269-9096-c707368fad06",
        "outputId": "3922f7f7-c530-434f-9355-31242866cd26"
      },
      "id": "83a6a94b-538f-4269-9096-c707368fad06"
    }
  ],
  "metadata": {
    "noteable-chatgpt": {
      "create_notebook": {
        "openai_conversation_id": "b5aca569-6bbf-5b04-9862-da8b45b92f07",
        "openai_ephemeral_user_id": "cda3fedf-12d1-518e-ad12-0a0860cf0d2a",
        "openai_subdivision1_iso_code": "US-NJ"
      }
    },
    "kernel_info": {
      "name": "python3"
    },
    "kernelspec": {
      "display_name": "Python 3.9",
      "language": "python",
      "name": "python3"
    },
    "selected_hardware_size": "small",
    "noteable": {
      "last_delta_id": "8a6affa3-8726-42c8-bc0d-ada23e631aca"
    },
    "nteract": {
      "version": "noteable@2.9.0"
    },
    "colab": {
      "provenance": [],
      "include_colab_link": true
    }
  },
  "nbformat": 4,
  "nbformat_minor": 5
}